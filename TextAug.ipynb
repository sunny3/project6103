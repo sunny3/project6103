{
 "cells": [
  {
   "cell_type": "code",
   "execution_count": 3,
   "metadata": {},
   "outputs": [],
   "source": [
    "from googletrans import Translator"
   ]
  },
  {
   "cell_type": "code",
   "execution_count": 4,
   "metadata": {},
   "outputs": [],
   "source": [
    "translator = Translator()"
   ]
  },
  {
   "cell_type": "code",
   "execution_count": 84,
   "metadata": {},
   "outputs": [
    {
     "name": "stdout",
     "output_type": "stream",
     "text": [
      "[['Основанный на пользовании энергией солнца.', '12372153537602071154', 'Солнечные часы прибор для определения времени по солнцу'], ['Наполненный ярким светом солнца.', '2317829880244569869', 'С. день']]\n"
     ]
    }
   ],
   "source": [
    "print(translator.translate('Солнечный', src='ru', dest='en').extra_data['definitions'][0][1]) #, dest='en' #all-translations #possible-translations #definitions"
   ]
  },
  {
   "cell_type": "code",
   "execution_count": 75,
   "metadata": {},
   "outputs": [],
   "source": [
    "obj = translator.translate('sunny', src='en', dest='ru').__dict__"
   ]
  },
  {
   "cell_type": "code",
   "execution_count": 76,
   "metadata": {},
   "outputs": [
    {
     "name": "stdout",
     "output_type": "stream",
     "text": [
      "[['имя прилагательное', [['bright with sunlight.', 'm_en_gbus1013150.003', 'a sunny day']], 'sunny']]\n"
     ]
    }
   ],
   "source": [
    "print(obj['extra_data']['definitions'])"
   ]
  },
  {
   "cell_type": "code",
   "execution_count": 92,
   "metadata": {},
   "outputs": [
    {
     "name": "stdout",
     "output_type": "stream",
     "text": [
      "['наречие', ['солнечно'], [['солнечно', ['sunny'], None, 0.34023288]], 'sunny', 4]\n"
     ]
    }
   ],
   "source": [
    "print(obj['extra_data']['all-translations'][0])"
   ]
  },
  {
   "cell_type": "code",
   "execution_count": 94,
   "metadata": {},
   "outputs": [
    {
     "name": "stdout",
     "output_type": "stream",
     "text": [
      "[['lord', None, [['господин', 976, True, False], ['повелитель', 21, True, False], ['лорд', 2, True, False], ['господина', 0, True, False], ['владыка', 0, True, False]], [[0, 4]], 'lord', 0, 1]]\n"
     ]
    }
   ],
   "source": [
    "print(translator.translate('lord', src='en', dest='ru').extra_data['possible-translations'][0])"
   ]
  },
  {
   "cell_type": "code",
   "execution_count": 7,
   "metadata": {},
   "outputs": [],
   "source": [
    "import pandas as pd\n",
    "import numpy as np\n",
    "import re"
   ]
  },
  {
   "cell_type": "code",
   "execution_count": 23,
   "metadata": {},
   "outputs": [],
   "source": [
    "lang_df = pd.DataFrame(columns=['origin', 'translation', 'all-translations', 'possible-translations', 'definitions'])"
   ]
  },
  {
   "cell_type": "code",
   "execution_count": 21,
   "metadata": {},
   "outputs": [],
   "source": [
    "languages = [\"en\", \"de\", \"fr\", \"es\"]\n",
    "terms_li = []\n",
    "with open('pt.asc') as f:\n",
    "    lines = f.read().strip('\\n').split('\\n')\n",
    "    i=0\n",
    "    for i, line in enumerate(lines):\n",
    "        try:\n",
    "            term = re.search('\\$[^$]+\\$' , line).group()[1:-1]\n",
    "            terms_li.append(term)\n",
    "        except:\n",
    "            print(line)"
   ]
  },
  {
   "cell_type": "code",
   "execution_count": null,
   "metadata": {},
   "outputs": [],
   "source": [
    "def get_reverse_translate(origin, lang, attr):\n",
    "    if attr == 'definitions':\n",
    "        definitions = getattr(translator.translate(origin, src='ru', dest=lang), 'extra_data')['definitions']\n",
    "        if definitions is None:\n",
    "            return '-'\n",
    "        definitions = [i[0][1] for i in definitions]\n",
    "        if len(definitions)>1:\n",
    "            definitions = sum(definitions, [])\n",
    "        definitions = [i[0] for i in definitions]\n",
    "        return ' | '.join(definitions)\n",
    "    translation = translator.translate(origin, src='ru', dest=lang).text\n",
    "    translation_obj = translator.translate(translation, src=lang, dest='ru')\n",
    "    if attr == 'translation':\n",
    "        return translation_obj.text\n",
    "    attr_value = getattr(translation_obj, 'extra_data')[attr]\n",
    "    if attr_value is None:\n",
    "            return '-'\n",
    "    if attr == 'all-translations':\n",
    "        all_translations = [i[1] for i in attr_value]\n",
    "        all_translations = sum(all_translations, [])\n",
    "        return ' | '.join(all_translations)\n",
    "    elif attr == 'possible-translations':\n",
    "        possible_translations = attr_value[0][2]\n",
    "        return ' | '.join([i[0] for i in possible_translations])\n",
    "            \n",
    "for lang in languages:\n",
    "    lang_df = pd.DataFrame(columns=['origin', 'translation', 'all-translations', 'possible-translations', 'definitions'])\n",
    "    table_name = 'pt_' + lang + '.csv'\n",
    "    for term in terms_li:\n",
    "        row = {'origin': term, 'all-translations': None, 'possible-translations': None, 'definitions': None}\n",
    "        for attr in lang_df.columns[1:]:\n",
    "            row[attr] = get_reverse_translate(term, lang, attr)\n",
    "        s = pd.Series(row)\n",
    "        lang_df = lang_df.append(s, ignore_index=True)\n",
    "    lang_df.to_csv(table_name)"
   ]
  },
  {
   "cell_type": "code",
   "execution_count": 24,
   "metadata": {},
   "outputs": [
    {
     "name": "stdout",
     "output_type": "stream",
     "text": [
      "all-translations\n",
      "possible-translations\n",
      "definitions\n"
     ]
    }
   ],
   "source": [
    "for attr in lang_df.columns[1:]:\n",
    "    print(attr)"
   ]
  },
  {
   "cell_type": "code",
   "execution_count": 26,
   "metadata": {},
   "outputs": [
    {
     "data": {
      "text/html": [
       "<div>\n",
       "<style scoped>\n",
       "    .dataframe tbody tr th:only-of-type {\n",
       "        vertical-align: middle;\n",
       "    }\n",
       "\n",
       "    .dataframe tbody tr th {\n",
       "        vertical-align: top;\n",
       "    }\n",
       "\n",
       "    .dataframe thead th {\n",
       "        text-align: right;\n",
       "    }\n",
       "</style>\n",
       "<table border=\"1\" class=\"dataframe\">\n",
       "  <thead>\n",
       "    <tr style=\"text-align: right;\">\n",
       "      <th></th>\n",
       "      <th>origin</th>\n",
       "      <th>all-translations</th>\n",
       "      <th>possible-translations</th>\n",
       "      <th>definitions</th>\n",
       "    </tr>\n",
       "  </thead>\n",
       "  <tbody>\n",
       "    <tr>\n",
       "      <th>0</th>\n",
       "      <td>a</td>\n",
       "      <td>b</td>\n",
       "      <td>c</td>\n",
       "      <td>d</td>\n",
       "    </tr>\n",
       "  </tbody>\n",
       "</table>\n",
       "</div>"
      ],
      "text/plain": [
       "  origin all-translations possible-translations definitions\n",
       "0      a                b                     c           d"
      ]
     },
     "execution_count": 26,
     "metadata": {},
     "output_type": "execute_result"
    }
   ],
   "source": [
    "s = pd.Series({'origin': 'a', 'all-translations': 'b', 'possible-translations': 'c', 'definitions': 'd'})\n",
    "lang_df = lang_df.append(s, ignore_index=True)\n",
    "lang_df.head()"
   ]
  },
  {
   "cell_type": "code",
   "execution_count": null,
   "metadata": {},
   "outputs": [],
   "source": []
  }
 ],
 "metadata": {
  "kernelspec": {
   "display_name": "Python 3",
   "language": "python",
   "name": "python3"
  },
  "language_info": {
   "codemirror_mode": {
    "name": "ipython",
    "version": 3
   },
   "file_extension": ".py",
   "mimetype": "text/x-python",
   "name": "python",
   "nbconvert_exporter": "python",
   "pygments_lexer": "ipython3",
   "version": "3.7.3"
  }
 },
 "nbformat": 4,
 "nbformat_minor": 4
}
